{
 "cells": [
  {
   "cell_type": "markdown",
   "metadata": {},
   "source": [
    "# Distributed training of ATLAS RPV CNN Classifier\n",
    "\n",
    "In this notebook, we extend the Train_rpv example to train distributed across nodes\n",
    "using ipyparallel and Horovod."
   ]
  },
  {
   "cell_type": "code",
   "execution_count": 1,
   "metadata": {},
   "outputs": [],
   "source": [
    "# System imports\n",
    "from __future__ import print_function\n",
    "from __future__ import division\n",
    "from __future__ import absolute_import\n",
    "\n",
    "# External imports\n",
    "import ipyparallel as ipp\n",
    "\n",
    "import matplotlib.pyplot as plt\n",
    "%matplotlib notebook"
   ]
  },
  {
   "cell_type": "markdown",
   "metadata": {},
   "source": [
    "## Connect to ipyparallel cluster"
   ]
  },
  {
   "cell_type": "code",
   "execution_count": 2,
   "metadata": {},
   "outputs": [
    {
     "name": "stdout",
     "output_type": "stream",
     "text": [
      "             JOBID PARTITION     NAME     USER ST       TIME  NODES NODELIST(REASON)\n",
      "          14799600 interacti       sh sfarrell  R      13:19     16 nid00[138,178-183,193,212-219]\n",
      "          14800065     debug batchScr sfarrell  R       0:13     16 nid0[1046-1061]\n"
     ]
    }
   ],
   "source": [
    "%%bash\n",
    "squeue -u sfarrell"
   ]
  },
  {
   "cell_type": "code",
   "execution_count": 3,
   "metadata": {},
   "outputs": [
    {
     "name": "stdout",
     "output_type": "stream",
     "text": [
      "Worker IDs: [0, 1, 2, 3, 4, 5, 6, 7, 8, 9, 10, 11, 12, 13, 14, 15]\n"
     ]
    }
   ],
   "source": [
    "# Cluster ID taken from job ID above\n",
    "job_id = 14799600\n",
    "cluster_id = 'cori_{}'.format(job_id)\n",
    "\n",
    "# Use default profile\n",
    "c = ipp.Client(timeout=60, cluster_id=cluster_id)\n",
    "print('Worker IDs:', c.ids)"
   ]
  },
  {
   "cell_type": "markdown",
   "metadata": {},
   "source": [
    "## Setup the workers"
   ]
  },
  {
   "cell_type": "code",
   "execution_count": 4,
   "metadata": {},
   "outputs": [],
   "source": [
    "%%px\n",
    "\n",
    "from __future__ import print_function\n",
    "from __future__ import division\n",
    "\n",
    "import os\n",
    "import socket\n",
    "\n",
    "import keras\n",
    "import horovod.keras as hvd\n",
    "\n",
    "from rpv import load_dataset, build_model, train_model"
   ]
  },
  {
   "cell_type": "code",
   "execution_count": 5,
   "metadata": {},
   "outputs": [
    {
     "name": "stdout",
     "output_type": "stream",
     "text": [
      "[stdout:0] MPI rank 0, local rank 0, host nid00138\n",
      "[stdout:1] MPI rank 11, local rank 0, host nid00215\n",
      "[stdout:2] MPI rank 6, local rank 0, host nid00183\n",
      "[stdout:3] MPI rank 5, local rank 0, host nid00182\n",
      "[stdout:4] MPI rank 10, local rank 0, host nid00214\n",
      "[stdout:5] MPI rank 4, local rank 0, host nid00181\n",
      "[stdout:6] MPI rank 8, local rank 0, host nid00212\n",
      "[stdout:7] MPI rank 9, local rank 0, host nid00213\n",
      "[stdout:8] MPI rank 3, local rank 0, host nid00180\n",
      "[stdout:9] MPI rank 2, local rank 0, host nid00179\n",
      "[stdout:10] MPI rank 7, local rank 0, host nid00193\n",
      "[stdout:11] MPI rank 14, local rank 0, host nid00218\n",
      "[stdout:12] MPI rank 13, local rank 0, host nid00217\n",
      "[stdout:13] MPI rank 12, local rank 0, host nid00216\n",
      "[stdout:14] MPI rank 15, local rank 0, host nid00219\n",
      "[stdout:15] MPI rank 1, local rank 0, host nid00178\n"
     ]
    }
   ],
   "source": [
    "%%px\n",
    "\n",
    "# Initialize horovod\n",
    "hvd.init()\n",
    "print('MPI rank %i, local rank %i, host %s' %\n",
    "      (hvd.rank(), hvd.local_rank(), socket.gethostname()))"
   ]
  },
  {
   "cell_type": "markdown",
   "metadata": {},
   "source": [
    "## Load the data"
   ]
  },
  {
   "cell_type": "code",
   "execution_count": 6,
   "metadata": {
    "scrolled": true
   },
   "outputs": [
    {
     "name": "stdout",
     "output_type": "stream",
     "text": [
      "[stdout:0] \n",
      "train shape: (64000, 64, 64, 1)\n",
      "valid shape: (32000, 64, 64, 1)\n",
      "test shape:  (32000, 64, 64, 1)\n",
      "[stdout:1] \n",
      "train shape: (64000, 64, 64, 1)\n",
      "valid shape: (32000, 64, 64, 1)\n",
      "test shape:  (32000, 64, 64, 1)\n",
      "[stdout:2] \n",
      "train shape: (64000, 64, 64, 1)\n",
      "valid shape: (32000, 64, 64, 1)\n",
      "test shape:  (32000, 64, 64, 1)\n",
      "[stdout:3] \n",
      "train shape: (64000, 64, 64, 1)\n",
      "valid shape: (32000, 64, 64, 1)\n",
      "test shape:  (32000, 64, 64, 1)\n",
      "[stdout:4] \n",
      "train shape: (64000, 64, 64, 1)\n",
      "valid shape: (32000, 64, 64, 1)\n",
      "test shape:  (32000, 64, 64, 1)\n",
      "[stdout:5] \n",
      "train shape: (64000, 64, 64, 1)\n",
      "valid shape: (32000, 64, 64, 1)\n",
      "test shape:  (32000, 64, 64, 1)\n",
      "[stdout:6] \n",
      "train shape: (64000, 64, 64, 1)\n",
      "valid shape: (32000, 64, 64, 1)\n",
      "test shape:  (32000, 64, 64, 1)\n",
      "[stdout:7] \n",
      "train shape: (64000, 64, 64, 1)\n",
      "valid shape: (32000, 64, 64, 1)\n",
      "test shape:  (32000, 64, 64, 1)\n",
      "[stdout:8] \n",
      "train shape: (64000, 64, 64, 1)\n",
      "valid shape: (32000, 64, 64, 1)\n",
      "test shape:  (32000, 64, 64, 1)\n",
      "[stdout:9] \n",
      "train shape: (64000, 64, 64, 1)\n",
      "valid shape: (32000, 64, 64, 1)\n",
      "test shape:  (32000, 64, 64, 1)\n",
      "[stdout:10] \n",
      "train shape: (64000, 64, 64, 1)\n",
      "valid shape: (32000, 64, 64, 1)\n",
      "test shape:  (32000, 64, 64, 1)\n",
      "[stdout:11] \n",
      "train shape: (64000, 64, 64, 1)\n",
      "valid shape: (32000, 64, 64, 1)\n",
      "test shape:  (32000, 64, 64, 1)\n",
      "[stdout:12] \n",
      "train shape: (64000, 64, 64, 1)\n",
      "valid shape: (32000, 64, 64, 1)\n",
      "test shape:  (32000, 64, 64, 1)\n",
      "[stdout:13] \n",
      "train shape: (64000, 64, 64, 1)\n",
      "valid shape: (32000, 64, 64, 1)\n",
      "test shape:  (32000, 64, 64, 1)\n",
      "[stdout:14] \n",
      "train shape: (64000, 64, 64, 1)\n",
      "valid shape: (32000, 64, 64, 1)\n",
      "test shape:  (32000, 64, 64, 1)\n",
      "[stdout:15] \n",
      "train shape: (64000, 64, 64, 1)\n",
      "valid shape: (32000, 64, 64, 1)\n",
      "test shape:  (32000, 64, 64, 1)\n"
     ]
    }
   ],
   "source": [
    "%%px\n",
    "\n",
    "# Data config\n",
    "n_train = 64000 #412416\n",
    "n_valid = 32000 #137471\n",
    "n_test = 32000 #137471\n",
    "input_dir = '/global/cscratch1/sd/sfarrell/atlas-rpv-images'\n",
    "\n",
    "# Load the data files\n",
    "((train_input, train_labels, train_weights),\n",
    " (valid_input, valid_labels, valid_weights),\n",
    " (test_input, test_labels, test_weights)) = load_dataset(input_dir, n_train, n_valid, n_test)\n",
    "print('train shape:', train_input.shape)\n",
    "print('valid shape:', valid_input.shape)\n",
    "print('test shape: ', test_input.shape)"
   ]
  },
  {
   "cell_type": "markdown",
   "metadata": {},
   "source": [
    "## Build and train the model"
   ]
  },
  {
   "cell_type": "code",
   "execution_count": 7,
   "metadata": {},
   "outputs": [
    {
     "name": "stdout",
     "output_type": "stream",
     "text": [
      "[stdout:0] \n",
      "_________________________________________________________________\n",
      "Layer (type)                 Output Shape              Param #   \n",
      "=================================================================\n",
      "input_1 (InputLayer)         (None, 64, 64, 1)         0         \n",
      "_________________________________________________________________\n",
      "conv2d_5 (Conv2D)            (None, 64, 64, 16)        160       \n",
      "_________________________________________________________________\n",
      "max_pooling2d_3 (MaxPooling2 (None, 32, 32, 16)        0         \n",
      "_________________________________________________________________\n",
      "conv2d_6 (Conv2D)            (None, 32, 32, 32)        4640      \n",
      "_________________________________________________________________\n",
      "max_pooling2d_4 (MaxPooling2 (None, 16, 16, 32)        0         \n",
      "_________________________________________________________________\n",
      "conv2d_7 (Conv2D)            (None, 16, 16, 64)        18496     \n",
      "_________________________________________________________________\n",
      "max_pooling2d_5 (MaxPooling2 (None, 8, 8, 64)          0         \n",
      "_________________________________________________________________\n",
      "dropout_5 (Dropout)          (None, 8, 8, 64)          0         \n",
      "_________________________________________________________________\n",
      "flatten_3 (Flatten)          (None, 4096)              0         \n",
      "_________________________________________________________________\n",
      "dense_5 (Dense)              (None, 128)               524416    \n",
      "_________________________________________________________________\n",
      "dropout_6 (Dropout)          (None, 128)               0         \n",
      "_________________________________________________________________\n",
      "dense_6 (Dense)              (None, 1)                 129       \n",
      "=================================================================\n",
      "Total params: 547,841\n",
      "Trainable params: 547,841\n",
      "Non-trainable params: 0\n",
      "_________________________________________________________________\n"
     ]
    }
   ],
   "source": [
    "%%px\n",
    "\n",
    "# Model config\n",
    "conv_sizes = [16, 32, 64]\n",
    "fc_sizes = [128]\n",
    "optimizer = 'Adam'\n",
    "lr = 0.001 * hvd.size()\n",
    "dropout=0.2\n",
    "\n",
    "# Training config\n",
    "batch_size = 128\n",
    "n_epochs = 4\n",
    "\n",
    "# Build the model\n",
    "model = build_model(train_input.shape[1:],\n",
    "                    conv_sizes=conv_sizes, fc_sizes=fc_sizes,\n",
    "                    dropout=dropout,\n",
    "                    optimizer=optimizer, lr=lr,\n",
    "                    use_horovod=True)\n",
    "if hvd.rank() == 0:\n",
    "    model.summary()"
   ]
  },
  {
   "cell_type": "code",
   "execution_count": 8,
   "metadata": {},
   "outputs": [
    {
     "name": "stdout",
     "output_type": "stream",
     "text": [
      "[stdout:0] \n",
      "Train on 64000 samples, validate on 32000 samples\n",
      "Epoch 1/4\n",
      " - 21s - loss: 0.6867 - acc: 0.5680 - val_loss: 0.6821 - val_acc: 0.5742\n",
      "Epoch 2/4\n",
      " - 20s - loss: 0.6830 - acc: 0.5713 - val_loss: 0.6821 - val_acc: 0.5742\n",
      "Epoch 3/4\n",
      " - 20s - loss: 0.6830 - acc: 0.5713 - val_loss: 0.6822 - val_acc: 0.5742\n",
      "Epoch 4/4\n",
      " - 20s - loss: 0.6830 - acc: 0.5713 - val_loss: 0.6821 - val_acc: 0.5742\n",
      "[stdout:1] \n",
      "Train on 64000 samples, validate on 32000 samples\n",
      "Epoch 1/4\n",
      " - 21s - loss: 0.6862 - acc: 0.5666 - val_loss: 0.6821 - val_acc: 0.5742\n",
      "Epoch 2/4\n",
      " - 20s - loss: 0.6830 - acc: 0.5713 - val_loss: 0.6821 - val_acc: 0.5742\n",
      "Epoch 3/4\n",
      " - 20s - loss: 0.6830 - acc: 0.5713 - val_loss: 0.6822 - val_acc: 0.5742\n",
      "Epoch 4/4\n",
      " - 20s - loss: 0.6830 - acc: 0.5713 - val_loss: 0.6821 - val_acc: 0.5742\n",
      "[stdout:2] \n",
      "Train on 64000 samples, validate on 32000 samples\n",
      "Epoch 1/4\n",
      " - 21s - loss: 0.6871 - acc: 0.5663 - val_loss: 0.6821 - val_acc: 0.5742\n",
      "Epoch 2/4\n",
      " - 20s - loss: 0.6830 - acc: 0.5713 - val_loss: 0.6821 - val_acc: 0.5742\n",
      "Epoch 3/4\n",
      " - 20s - loss: 0.6830 - acc: 0.5713 - val_loss: 0.6822 - val_acc: 0.5742\n",
      "Epoch 4/4\n",
      " - 20s - loss: 0.6830 - acc: 0.5713 - val_loss: 0.6821 - val_acc: 0.5742\n",
      "[stdout:3] \n",
      "Train on 64000 samples, validate on 32000 samples\n",
      "Epoch 1/4\n",
      " - 21s - loss: 0.6864 - acc: 0.5681 - val_loss: 0.6821 - val_acc: 0.5742\n",
      "Epoch 2/4\n",
      " - 20s - loss: 0.6830 - acc: 0.5713 - val_loss: 0.6821 - val_acc: 0.5742\n",
      "Epoch 3/4\n",
      " - 20s - loss: 0.6830 - acc: 0.5713 - val_loss: 0.6822 - val_acc: 0.5742\n",
      "Epoch 4/4\n",
      " - 20s - loss: 0.6830 - acc: 0.5713 - val_loss: 0.6821 - val_acc: 0.5742\n",
      "[stdout:4] \n",
      "Train on 64000 samples, validate on 32000 samples\n",
      "Epoch 1/4\n",
      " - 21s - loss: 0.6873 - acc: 0.5665 - val_loss: 0.6821 - val_acc: 0.5742\n",
      "Epoch 2/4\n",
      " - 20s - loss: 0.6830 - acc: 0.5713 - val_loss: 0.6821 - val_acc: 0.5742\n",
      "Epoch 3/4\n",
      " - 20s - loss: 0.6830 - acc: 0.5713 - val_loss: 0.6822 - val_acc: 0.5742\n",
      "Epoch 4/4\n",
      " - 20s - loss: 0.6830 - acc: 0.5713 - val_loss: 0.6821 - val_acc: 0.5742\n",
      "[stdout:5] \n",
      "Train on 64000 samples, validate on 32000 samples\n",
      "Epoch 1/4\n",
      " - 21s - loss: 0.6862 - acc: 0.5674 - val_loss: 0.6821 - val_acc: 0.5742\n",
      "Epoch 2/4\n",
      " - 20s - loss: 0.6830 - acc: 0.5713 - val_loss: 0.6821 - val_acc: 0.5742\n",
      "Epoch 3/4\n",
      " - 20s - loss: 0.6830 - acc: 0.5713 - val_loss: 0.6822 - val_acc: 0.5742\n",
      "Epoch 4/4\n",
      " - 20s - loss: 0.6830 - acc: 0.5713 - val_loss: 0.6821 - val_acc: 0.5742\n",
      "[stdout:6] \n",
      "Train on 64000 samples, validate on 32000 samples\n",
      "Epoch 1/4\n",
      " - 21s - loss: 0.6876 - acc: 0.5666 - val_loss: 0.6821 - val_acc: 0.5742\n",
      "Epoch 2/4\n",
      " - 20s - loss: 0.6830 - acc: 0.5713 - val_loss: 0.6821 - val_acc: 0.5742\n",
      "Epoch 3/4\n",
      " - 20s - loss: 0.6830 - acc: 0.5713 - val_loss: 0.6822 - val_acc: 0.5742\n",
      "Epoch 4/4\n",
      " - 20s - loss: 0.6830 - acc: 0.5713 - val_loss: 0.6821 - val_acc: 0.5742\n",
      "[stdout:7] \n",
      "Train on 64000 samples, validate on 32000 samples\n",
      "Epoch 1/4\n",
      " - 21s - loss: 0.6870 - acc: 0.5663 - val_loss: 0.6821 - val_acc: 0.5742\n",
      "Epoch 2/4\n",
      " - 20s - loss: 0.6830 - acc: 0.5713 - val_loss: 0.6821 - val_acc: 0.5742\n",
      "Epoch 3/4\n",
      " - 20s - loss: 0.6830 - acc: 0.5713 - val_loss: 0.6822 - val_acc: 0.5742\n",
      "Epoch 4/4\n",
      " - 20s - loss: 0.6830 - acc: 0.5713 - val_loss: 0.6821 - val_acc: 0.5742\n",
      "[stdout:8] \n",
      "Train on 64000 samples, validate on 32000 samples\n",
      "Epoch 1/4\n",
      " - 21s - loss: 0.6872 - acc: 0.5673 - val_loss: 0.6821 - val_acc: 0.5742\n",
      "Epoch 2/4\n",
      " - 20s - loss: 0.6830 - acc: 0.5713 - val_loss: 0.6821 - val_acc: 0.5742\n",
      "Epoch 3/4\n",
      " - 20s - loss: 0.6830 - acc: 0.5713 - val_loss: 0.6822 - val_acc: 0.5742\n",
      "Epoch 4/4\n",
      " - 20s - loss: 0.6830 - acc: 0.5713 - val_loss: 0.6821 - val_acc: 0.5742\n",
      "[stdout:9] \n",
      "Train on 64000 samples, validate on 32000 samples\n",
      "Epoch 1/4\n",
      " - 21s - loss: 0.6872 - acc: 0.5673 - val_loss: 0.6821 - val_acc: 0.5742\n",
      "Epoch 2/4\n",
      " - 20s - loss: 0.6830 - acc: 0.5713 - val_loss: 0.6821 - val_acc: 0.5742\n",
      "Epoch 3/4\n",
      " - 20s - loss: 0.6829 - acc: 0.5713 - val_loss: 0.6822 - val_acc: 0.5742\n",
      "Epoch 4/4\n",
      " - 20s - loss: 0.6830 - acc: 0.5713 - val_loss: 0.6821 - val_acc: 0.5742\n",
      "[stdout:10] \n",
      "Train on 64000 samples, validate on 32000 samples\n",
      "Epoch 1/4\n",
      " - 21s - loss: 0.6865 - acc: 0.5683 - val_loss: 0.6821 - val_acc: 0.5742\n",
      "Epoch 2/4\n",
      " - 20s - loss: 0.6830 - acc: 0.5713 - val_loss: 0.6821 - val_acc: 0.5742\n",
      "Epoch 3/4\n",
      " - 20s - loss: 0.6830 - acc: 0.5713 - val_loss: 0.6822 - val_acc: 0.5742\n",
      "Epoch 4/4\n",
      " - 20s - loss: 0.6830 - acc: 0.5713 - val_loss: 0.6821 - val_acc: 0.5742\n",
      "[stdout:11] \n",
      "Train on 64000 samples, validate on 32000 samples\n",
      "Epoch 1/4\n",
      " - 21s - loss: 0.6881 - acc: 0.5675 - val_loss: 0.6821 - val_acc: 0.5742\n",
      "Epoch 2/4\n",
      " - 20s - loss: 0.6830 - acc: 0.5713 - val_loss: 0.6821 - val_acc: 0.5742\n",
      "Epoch 3/4\n",
      " - 20s - loss: 0.6830 - acc: 0.5713 - val_loss: 0.6822 - val_acc: 0.5742\n",
      "Epoch 4/4\n",
      " - 20s - loss: 0.6830 - acc: 0.5713 - val_loss: 0.6821 - val_acc: 0.5742\n",
      "[stdout:12] \n",
      "Train on 64000 samples, validate on 32000 samples\n",
      "Epoch 1/4\n",
      " - 21s - loss: 0.6877 - acc: 0.5671 - val_loss: 0.6821 - val_acc: 0.5742\n",
      "Epoch 2/4\n",
      " - 20s - loss: 0.6830 - acc: 0.5713 - val_loss: 0.6821 - val_acc: 0.5742\n",
      "Epoch 3/4\n",
      " - 20s - loss: 0.6830 - acc: 0.5713 - val_loss: 0.6822 - val_acc: 0.5742\n",
      "Epoch 4/4\n",
      " - 20s - loss: 0.6830 - acc: 0.5713 - val_loss: 0.6821 - val_acc: 0.5742\n",
      "[stdout:13] \n",
      "Train on 64000 samples, validate on 32000 samples\n",
      "Epoch 1/4\n",
      " - 21s - loss: 0.6873 - acc: 0.5681 - val_loss: 0.6821 - val_acc: 0.5742\n",
      "Epoch 2/4\n",
      " - 20s - loss: 0.6830 - acc: 0.5713 - val_loss: 0.6821 - val_acc: 0.5742\n",
      "Epoch 3/4\n",
      " - 20s - loss: 0.6830 - acc: 0.5713 - val_loss: 0.6822 - val_acc: 0.5742\n",
      "Epoch 4/4\n",
      " - 20s - loss: 0.6830 - acc: 0.5713 - val_loss: 0.6821 - val_acc: 0.5742\n",
      "[stdout:14] \n",
      "Train on 64000 samples, validate on 32000 samples\n",
      "Epoch 1/4\n",
      " - 21s - loss: 0.6874 - acc: 0.5654 - val_loss: 0.6821 - val_acc: 0.5742\n",
      "Epoch 2/4\n",
      " - 20s - loss: 0.6830 - acc: 0.5713 - val_loss: 0.6821 - val_acc: 0.5742\n",
      "Epoch 3/4\n",
      " - 20s - loss: 0.6830 - acc: 0.5713 - val_loss: 0.6822 - val_acc: 0.5742\n",
      "Epoch 4/4\n",
      " - 20s - loss: 0.6830 - acc: 0.5713 - val_loss: 0.6821 - val_acc: 0.5742\n",
      "[stdout:15] \n",
      "Train on 64000 samples, validate on 32000 samples\n",
      "Epoch 1/4\n",
      " - 21s - loss: 0.6865 - acc: 0.5674 - val_loss: 0.6821 - val_acc: 0.5742\n",
      "Epoch 2/4\n",
      " - 20s - loss: 0.6830 - acc: 0.5713 - val_loss: 0.6821 - val_acc: 0.5742\n",
      "Epoch 3/4\n",
      " - 20s - loss: 0.6830 - acc: 0.5713 - val_loss: 0.6822 - val_acc: 0.5742\n",
      "Epoch 4/4\n",
      " - 20s - loss: 0.6830 - acc: 0.5713 - val_loss: 0.6821 - val_acc: 0.5742\n"
     ]
    }
   ],
   "source": [
    "%%px\n",
    "\n",
    "# Train the model\n",
    "history = train_model(model, train_input=train_input, train_labels=train_labels,\n",
    "                      valid_input=valid_input, valid_labels=valid_labels,\n",
    "                      batch_size=batch_size, n_epochs=n_epochs,\n",
    "                      use_horovod=True)"
   ]
  },
  {
   "cell_type": "code",
   "execution_count": 9,
   "metadata": {},
   "outputs": [],
   "source": [
    "# Can I get worker-local variables out?\n",
    "epochs = c[0].get('history.epoch')\n",
    "histories = c[:].get('history.history')"
   ]
  },
  {
   "cell_type": "code",
   "execution_count": 10,
   "metadata": {},
   "outputs": [],
   "source": [
    "%matplotlib inline"
   ]
  },
  {
   "cell_type": "code",
   "execution_count": 11,
   "metadata": {},
   "outputs": [
    {
     "data": {
      "image/png": "[encoded data removed]",
      "text/plain": [
       "<Figure size 648x288 with 2 Axes>"
      ]
     },
     "metadata": {},
     "output_type": "display_data"
    }
   ],
   "source": [
    "plt.figure(figsize=(9,4))\n",
    "\n",
    "# Plot the loss\n",
    "plt.subplot(121)\n",
    "plt.plot(epochs, histories[0]['val_loss'], label='Validation')\n",
    "for i, h in enumerate(histories):\n",
    "    plt.plot(epochs, h['loss'])#, label='Train %i' % i)\n",
    "plt.xlabel('Epoch')\n",
    "plt.ylabel('Loss')\n",
    "plt.legend(loc=0)\n",
    "\n",
    "# Plot the accuracy\n",
    "plt.subplot(122)\n",
    "plt.plot(epochs, histories[0]['val_acc'], label='Validation')\n",
    "for i, h in enumerate(histories):\n",
    "    plt.plot(epochs, h['acc'])#, label='Train %i' % i)\n",
    "plt.xlabel('Epoch')\n",
    "plt.ylabel('Accuracy')\n",
    "plt.legend(loc=0)\n",
    "\n",
    "plt.tight_layout()"
   ]
  },
  {
   "cell_type": "markdown",
   "metadata": {},
   "source": [
    "## Evaluate on the test set"
   ]
  },
  {
   "cell_type": "code",
   "execution_count": 12,
   "metadata": {},
   "outputs": [],
   "source": [
    "from sklearn import metrics\n",
    "\n",
    "def summarize_metrics(labels, outputs, threshold=0.5, weights=None):\n",
    "    preds = outputs > threshold\n",
    "    #print('Metrics summaries with threshold of %.3f' % threshold)\n",
    "    print('Accuracy:   %.4f' % metrics.accuracy_score(labels, preds, sample_weight=weights))\n",
    "    print('Purity:     %.4f' % metrics.precision_score(labels, preds, sample_weight=weights))\n",
    "    print('Efficiency: %.4f' % metrics.recall_score(labels, preds, sample_weight=weights))\n",
    "\n",
    "def draw_roc(labels, outputs, weights=None, ax=None):\n",
    "    fpr, tpr, _ = metrics.roc_curve(labels, outputs, sample_weight=weights)\n",
    "    auc = metrics.roc_auc_score(labels, outputs, sample_weight=weights)\n",
    "    if ax is None:\n",
    "        fig, ax = plt.subplots()\n",
    "    ax.plot(fpr, tpr, label='CNN, AUC=%.3f' % auc)\n",
    "    ax.plot([0, 1], [0, 1], '--', label='Random')\n",
    "    ax.set_xlabel('False positive rate')\n",
    "    ax.set_ylabel('True positive rate')\n",
    "    ax.legend(loc=0)"
   ]
  },
  {
   "cell_type": "code",
   "execution_count": 13,
   "metadata": {},
   "outputs": [
    {
     "name": "stdout",
     "output_type": "stream",
     "text": [
      "[stdout:0] \n",
      "Test loss: 0.682455607175827\n",
      "Test accuracy: 0.57309375\n",
      "[stdout:1] \n",
      "Test loss: 0.682455607175827\n",
      "Test accuracy: 0.57309375\n",
      "[stdout:2] \n",
      "Test loss: 0.682455607175827\n",
      "Test accuracy: 0.57309375\n",
      "[stdout:3] \n",
      "Test loss: 0.682455607175827\n",
      "Test accuracy: 0.57309375\n",
      "[stdout:4] \n",
      "Test loss: 0.682455607175827\n",
      "Test accuracy: 0.57309375\n",
      "[stdout:5] \n",
      "Test loss: 0.682455607175827\n",
      "Test accuracy: 0.57309375\n",
      "[stdout:6] \n",
      "Test loss: 0.682455607175827\n",
      "Test accuracy: 0.57309375\n",
      "[stdout:7] \n",
      "Test loss: 0.682455607175827\n",
      "Test accuracy: 0.57309375\n",
      "[stdout:8] \n",
      "Test loss: 0.682455607175827\n",
      "Test accuracy: 0.57309375\n",
      "[stdout:9] \n",
      "Test loss: 0.682455607175827\n",
      "Test accuracy: 0.57309375\n",
      "[stdout:10] \n",
      "Test loss: 0.682455607175827\n",
      "Test accuracy: 0.57309375\n",
      "[stdout:11] \n",
      "Test loss: 0.682455607175827\n",
      "Test accuracy: 0.57309375\n",
      "[stdout:12] \n",
      "Test loss: 0.682455607175827\n",
      "Test accuracy: 0.57309375\n",
      "[stdout:13] \n",
      "Test loss: 0.682455607175827\n",
      "Test accuracy: 0.57309375\n",
      "[stdout:14] \n",
      "Test loss: 0.682455607175827\n",
      "Test accuracy: 0.57309375\n",
      "[stdout:15] \n",
      "Test loss: 0.682455607175827\n",
      "Test accuracy: 0.57309375\n"
     ]
    }
   ],
   "source": [
    "%%px\n",
    "\n",
    "test_output = model.predict(test_input)\n",
    "test_output = test_output.squeeze(-1)\n",
    "score = model.evaluate(test_input, test_labels, verbose=2)\n",
    "print('Test loss:', score[0])\n",
    "print('Test accuracy:', score[1])"
   ]
  },
  {
   "cell_type": "code",
   "execution_count": 14,
   "metadata": {},
   "outputs": [],
   "source": [
    "test_output = c[0].get('test_output')\n",
    "test_labels = c[0].get('test_labels')\n",
    "test_weights = c[0].get('test_weights')"
   ]
  },
  {
   "cell_type": "code",
   "execution_count": 15,
   "metadata": {},
   "outputs": [
    {
     "name": "stdout",
     "output_type": "stream",
     "text": [
      "Unweighted metrics\n",
      "Accuracy:   0.5731\n",
      "Purity:     0.0000\n",
      "Efficiency: 0.0000\n",
      "\n",
      "Weighted metrics\n",
      "Accuracy:   0.9999\n",
      "Purity:     0.0000\n",
      "Efficiency: 0.0000\n"
     ]
    },
    {
     "name": "stderr",
     "output_type": "stream",
     "text": [
      "/usr/common/software/tensorflow/intel-tensorflow/1.9.0-py36/lib/python3.6/site-packages/sklearn/metrics/classification.py:1135: UndefinedMetricWarning: Precision is ill-defined and being set to 0.0 due to no predicted samples.\n",
      "  'precision', 'predicted', average, warn_for)\n"
     ]
    }
   ],
   "source": [
    "# Unweighted results\n",
    "print('Unweighted metrics')\n",
    "summarize_metrics(test_labels, test_output)\n",
    "print()\n",
    "\n",
    "# Weighted results\n",
    "print('Weighted metrics')\n",
    "summarize_metrics(test_labels, test_output, weights=test_weights)"
   ]
  },
  {
   "cell_type": "code",
   "execution_count": 16,
   "metadata": {},
   "outputs": [
    {
     "data": {
      "image/png": "[encoded data removed]",
      "text/plain": [
       "<Figure size 648x288 with 2 Axes>"
      ]
     },
     "metadata": {},
     "output_type": "display_data"
    }
   ],
   "source": [
    "fig, axs = plt.subplots(1, 2, figsize=(9,4))\n",
    "draw_roc(test_labels, test_output, ax=axs[0])\n",
    "draw_roc(test_labels, test_output, ax=axs[1], weights=test_weights)\n",
    "axs[0].set_xlim([0, 0.001])\n",
    "axs[0].set_title('Unweighted')\n",
    "axs[1].set_xlim([0, 0.001])\n",
    "axs[1].set_title('Weighted');"
   ]
  },
  {
   "cell_type": "code",
   "execution_count": 17,
   "metadata": {},
   "outputs": [
    {
     "data": {
      "image/png": "[encoded data removed]",
      "text/plain": [
       "<Figure size 432x288 with 1 Axes>"
      ]
     },
     "metadata": {},
     "output_type": "display_data"
    }
   ],
   "source": [
    "# Visualize the model output\n",
    "plt.figure()\n",
    "\n",
    "# Select real/fake sample model outputs\n",
    "real_idx = test_labels > 0.5\n",
    "fake_idx = (real_idx == False)\n",
    "\n",
    "binning=dict(bins=100, range=(0, 1), log=True)\n",
    "plt.hist(test_output[fake_idx], weights=test_weights[fake_idx], label='Fake', **binning)\n",
    "plt.hist(test_output[real_idx], weights=test_weights[real_idx], label='Real', **binning)\n",
    "plt.legend(loc=0);"
   ]
  }
 ],
 "metadata": {
  "kernelspec": {
   "display_name": "Tensorflow 1.9 py36",
   "language": "python",
   "name": "tensorflow_1.9.0_py36"
  },
  "language_info": {
   "codemirror_mode": {
    "name": "ipython",
    "version": 3
   },
   "file_extension": ".py",
   "mimetype": "text/x-python",
   "name": "python",
   "nbconvert_exporter": "python",
   "pygments_lexer": "ipython3",
   "version": "3.6.5"
  }
 },
 "nbformat": 4,
 "nbformat_minor": 2
}
