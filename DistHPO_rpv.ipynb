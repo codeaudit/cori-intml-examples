{
 "cells": [
  {
   "cell_type": "markdown",
   "metadata": {},
   "source": [
    "# Distributed random-search hyper-parameter optimization of the Keras RPV classifier"
   ]
  },
  {
   "cell_type": "code",
   "execution_count": 1,
   "metadata": {},
   "outputs": [
    {
     "name": "stderr",
     "output_type": "stream",
     "text": [
      "Using TensorFlow backend.\n"
     ]
    }
   ],
   "source": [
    "# System imports\n",
    "from __future__ import print_function\n",
    "from __future__ import division\n",
    "from __future__ import absolute_import\n",
    "import os\n",
    "\n",
    "# External imports\n",
    "import ipyparallel as ipp\n",
    "import numpy as np\n",
    "import keras\n",
    "import matplotlib.pyplot as plt\n",
    "\n",
    "# Local imports\n",
    "from rpv import load_file"
   ]
  },
  {
   "cell_type": "markdown",
   "metadata": {},
   "source": [
    "## Connect to cluster"
   ]
  },
  {
   "cell_type": "code",
   "execution_count": 2,
   "metadata": {},
   "outputs": [
    {
     "name": "stdout",
     "output_type": "stream",
     "text": [
      "             JOBID PARTITION     NAME     USER ST       TIME  NODES NODELIST(REASON)\n",
      "          14800250     debug batchScr sfarrell PD       0:00     64 (Priority)\n",
      "          14799600 interacti       sh sfarrell  R      25:18     16 nid00[138,178-183,193,212-219]\n"
     ]
    }
   ],
   "source": [
    "%%bash\n",
    "squeue -u sfarrell"
   ]
  },
  {
   "cell_type": "code",
   "execution_count": 3,
   "metadata": {},
   "outputs": [
    {
     "name": "stdout",
     "output_type": "stream",
     "text": [
      "Worker IDs: [0, 1, 2, 3, 4, 5, 6, 7, 8, 9, 10, 11, 12, 13, 14, 15]\n"
     ]
    }
   ],
   "source": [
    "# Cluster ID taken from job ID above\n",
    "job_id = 14799600\n",
    "cluster_id = 'cori_{}'.format(job_id)\n",
    "\n",
    "# Use default profile\n",
    "c = ipp.Client(timeout=60, cluster_id=cluster_id)\n",
    "print('Worker IDs:', c.ids)"
   ]
  },
  {
   "cell_type": "markdown",
   "metadata": {},
   "source": [
    "## Configure the hyper-parameter search tasks"
   ]
  },
  {
   "cell_type": "code",
   "execution_count": 4,
   "metadata": {},
   "outputs": [],
   "source": [
    "# Data config\n",
    "n_train = 64000 #412416\n",
    "n_valid = 32000 #137471\n",
    "n_test = 32000 #137471\n",
    "input_dir = '/global/cscratch1/sd/sfarrell/atlas-rpv-images'"
   ]
  },
  {
   "cell_type": "code",
   "execution_count": 5,
   "metadata": {},
   "outputs": [],
   "source": [
    "# Temporarily making things reproducible for development\n",
    "np.random.seed(0)\n",
    "\n",
    "# Define the hyper-parameter search points\n",
    "n_hpo_trials = 32\n",
    "h1 = np.random.choice([4, 8, 16, 32, 64], size=n_hpo_trials)\n",
    "h2 = np.random.choice([4, 8, 16, 32, 64], size=n_hpo_trials)\n",
    "h3 = np.random.choice([8, 16, 32, 64, 128], size=n_hpo_trials)\n",
    "conv_sizes = np.stack([h1, h2, h3], axis=1)\n",
    "fc_sizes = np.random.choice([32, 64, 128, 256], size=(n_hpo_trials, 1))\n",
    "lr = np.random.choice([0.0001, 0.001, 0.01], size=n_hpo_trials)\n",
    "dropout = np.random.rand(n_hpo_trials)\n",
    "optimizer = np.random.choice(['Adadelta', 'Adam', 'Nadam'], size=n_hpo_trials)\n",
    "\n",
    "# Training config\n",
    "batch_size = 64\n",
    "n_epochs = 16\n",
    "checkpoint_dir = os.path.join(os.environ['SCRATCH'],\n",
    "                              'cori-interactive-dl/rpv_hpo_%i' % job_id)\n",
    "os.makedirs(checkpoint_dir, exist_ok=True)"
   ]
  },
  {
   "cell_type": "markdown",
   "metadata": {},
   "source": [
    "## Run the hyper-parameter search"
   ]
  },
  {
   "cell_type": "code",
   "execution_count": 6,
   "metadata": {},
   "outputs": [],
   "source": [
    "def build_and_train(input_dir, n_train, n_valid,\n",
    "                    conv_sizes, fc_sizes, dropout, optimizer, lr,\n",
    "                    batch_size, n_epochs, checkpoint_file=None, verbose=2):\n",
    "    \"\"\"Run training for one set of hyper-parameters\"\"\"\n",
    "    import os\n",
    "    import keras\n",
    "    from rpv import build_model, train_model, load_file\n",
    "    from mlextras import configure_session\n",
    "    print('Hyperparameters: conv %s fc %s dropout %.3f opt %s, lr %.4f' %\n",
    "          (conv_sizes, fc_sizes, dropout, optimizer, lr))\n",
    "    # Load the dataset\n",
    "    train_input, train_labels, train_weights = load_file(os.path.join(input_dir, 'train.h5'), n_train)\n",
    "    valid_input, valid_labels, valid_weights = load_file(os.path.join(input_dir, 'val.h5'), n_valid)\n",
    "    print('train shape:', train_input.shape, 'Mean label:', train_labels.mean())\n",
    "    print('valid shape:', valid_input.shape, 'Mean label:', valid_labels.mean())\n",
    "    # Thread settings\n",
    "    keras.backend.set_session(configure_session())\n",
    "    # Build the model\n",
    "    model = build_model(train_input.shape[1:],\n",
    "                        conv_sizes=conv_sizes, fc_sizes=fc_sizes,\n",
    "                        dropout=dropout, optimizer=optimizer, lr=lr)\n",
    "    # Train the model\n",
    "    history = train_model(model, train_input=train_input, train_labels=train_labels,\n",
    "                          valid_input=valid_input, valid_labels=valid_labels,\n",
    "                          batch_size=batch_size, n_epochs=n_epochs,\n",
    "                          checkpoint_file=checkpoint_file, verbose=verbose)\n",
    "    return history.history"
   ]
  },
  {
   "cell_type": "code",
   "execution_count": 7,
   "metadata": {
    "scrolled": true
   },
   "outputs": [
    {
     "name": "stdout",
     "output_type": "stream",
     "text": [
      "Hyperparameter trial 0 conv [ 64   8 128] fc [256] dropout 0.8464 opt Nadam, lr 0.0001\n",
      "Hyperparameter trial 1 conv [ 4  8 16] fc [32] dropout 0.6995 opt Nadam, lr 0.0100\n",
      "Hyperparameter trial 2 conv [32  8 32] fc [128] dropout 0.2974 opt Adam, lr 0.0001\n",
      "Hyperparameter trial 3 conv [ 32   4 128] fc [128] dropout 0.8138 opt Adam, lr 0.0001\n",
      "Hyperparameter trial 4 conv [32 16 64] fc [256] dropout 0.3965 opt Adadelta, lr 0.0100\n",
      "Hyperparameter trial 5 conv [  8  64 128] fc [128] dropout 0.8811 opt Adadelta, lr 0.0001\n",
      "Hyperparameter trial 6 conv [ 32  32 128] fc [256] dropout 0.5813 opt Adadelta, lr 0.0100\n",
      "Hyperparameter trial 7 conv [ 16  32 128] fc [256] dropout 0.8817 opt Nadam, lr 0.0100\n",
      "Hyperparameter trial 8 conv [64 16 64] fc [256] dropout 0.6925 opt Nadam, lr 0.0100\n",
      "Hyperparameter trial 9 conv [  4  64 128] fc [128] dropout 0.7253 opt Adam, lr 0.0001\n",
      "Hyperparameter trial 10 conv [  4  16 128] fc [64] dropout 0.5013 opt Adam, lr 0.0001\n",
      "Hyperparameter trial 11 conv [ 64   4 128] fc [128] dropout 0.9561 opt Adadelta, lr 0.0001\n",
      "Hyperparameter trial 12 conv [16  4  8] fc [128] dropout 0.6440 opt Adadelta, lr 0.0010\n",
      "Hyperparameter trial 13 conv [  8  64 128] fc [256] dropout 0.4239 opt Nadam, lr 0.0100\n",
      "Hyperparameter trial 14 conv [ 4  4 64] fc [128] dropout 0.6064 opt Adam, lr 0.0001\n",
      "Hyperparameter trial 15 conv [ 8 64 32] fc [256] dropout 0.0192 opt Adam, lr 0.0010\n",
      "Hyperparameter trial 16 conv [8 8 8] fc [256] dropout 0.3016 opt Nadam, lr 0.0100\n",
      "Hyperparameter trial 17 conv [ 4 64 16] fc [128] dropout 0.6602 opt Adadelta, lr 0.0100\n",
      "Hyperparameter trial 18 conv [ 8  8 16] fc [128] dropout 0.2901 opt Adam, lr 0.0100\n",
      "Hyperparameter trial 19 conv [64 16 64] fc [256] dropout 0.6180 opt Adam, lr 0.0010\n",
      "Hyperparameter trial 20 conv [32 16  8] fc [32] dropout 0.4288 opt Adam, lr 0.0001\n",
      "Hyperparameter trial 21 conv [4 4 8] fc [64] dropout 0.1355 opt Adam, lr 0.0001\n",
      "Hyperparameter trial 22 conv [32  8 16] fc [128] dropout 0.2983 opt Adam, lr 0.0001\n",
      "Hyperparameter trial 23 conv [ 4  8 32] fc [256] dropout 0.5700 opt Nadam, lr 0.0001\n",
      "Hyperparameter trial 24 conv [ 16   8 128] fc [128] dropout 0.5909 opt Nadam, lr 0.0100\n",
      "Hyperparameter trial 25 conv [32  8 32] fc [64] dropout 0.5743 opt Nadam, lr 0.0100\n",
      "Hyperparameter trial 26 conv [ 4 32  8] fc [128] dropout 0.6532 opt Adadelta, lr 0.0001\n",
      "Hyperparameter trial 27 conv [ 8 32 64] fc [64] dropout 0.6521 opt Adam, lr 0.0001\n",
      "Hyperparameter trial 28 conv [32 16 32] fc [32] dropout 0.4314 opt Nadam, lr 0.0001\n",
      "Hyperparameter trial 29 conv [32 32 32] fc [128] dropout 0.8965 opt Adam, lr 0.0010\n",
      "Hyperparameter trial 30 conv [32  4  8] fc [128] dropout 0.3676 opt Adam, lr 0.0100\n",
      "Hyperparameter trial 31 conv [ 4 32 16] fc [256] dropout 0.4359 opt Adam, lr 0.0001\n"
     ]
    }
   ],
   "source": [
    "# Load-balanced view\n",
    "lv = c.load_balanced_view()\n",
    "\n",
    "# Loop over hyper-parameter sets\n",
    "results = []\n",
    "for ihp in range(n_hpo_trials):\n",
    "    print('Hyperparameter trial %i conv %s fc %s dropout %.4f opt %s, lr %.4f' %\n",
    "          (ihp, conv_sizes[ihp], fc_sizes[ihp], dropout[ihp], optimizer[ihp], lr[ihp]))\n",
    "    checkpoint_file = os.path.join(checkpoint_dir, 'model_%i.h5' % ihp)\n",
    "    result = lv.apply(build_and_train,\n",
    "                      input_dir, n_train, n_valid,\n",
    "                      conv_sizes=conv_sizes[ihp], fc_sizes=fc_sizes[ihp],\n",
    "                      dropout=dropout[ihp], optimizer=optimizer[ihp], lr=lr[ihp],\n",
    "                      batch_size=batch_size, n_epochs=n_epochs,\n",
    "                      checkpoint_file=checkpoint_file)\n",
    "    results.append(result)"
   ]
  },
  {
   "cell_type": "code",
   "execution_count": 24,
   "metadata": {},
   "outputs": [
    {
     "name": "stdout",
     "output_type": "stream",
     "text": [
      "Tasks completed: 18 / 32\n"
     ]
    }
   ],
   "source": [
    "print('Tasks completed: %i / %i' % (np.sum([ar.ready() for ar in results]), len(results)))"
   ]
  },
  {
   "cell_type": "code",
   "execution_count": 25,
   "metadata": {},
   "outputs": [
    {
     "name": "stdout",
     "output_type": "stream",
     "text": [
      "Hyperparameters: conv [ 64   8 128] fc [256] dropout 0.846 opt Nadam, lr 0.0001\n",
      "train shape: (64000, 64, 64, 1) Mean label: 0.428734375\n",
      "valid shape: (32000, 64, 64, 1) Mean label: 0.4258125\n",
      "Train on 64000 samples, validate on 32000 samples\n",
      "Epoch 1/16\n",
      " - 45s - loss: 0.3419 - acc: 0.8395 - val_loss: 0.2453 - val_acc: 0.9009\n",
      "Epoch 2/16\n",
      " - 44s - loss: 0.2535 - acc: 0.9021 - val_loss: 0.2353 - val_acc: 0.9041\n",
      "Epoch 3/16\n",
      " - 44s - loss: 0.2484 - acc: 0.9023 - val_loss: 0.2324 - val_acc: 0.9059\n",
      "Epoch 4/16\n",
      " - 44s - loss: 0.2452 - acc: 0.9035 - val_loss: 0.2336 - val_acc: 0.9053\n",
      "Epoch 5/16\n",
      " - 44s - loss: 0.2441 - acc: 0.9041 - val_loss: 0.2307 - val_acc: 0.9063\n",
      "Epoch 6/16\n",
      " - 44s - loss: 0.2409 - acc: 0.9048 - val_loss: 0.2293 - val_acc: 0.9074\n",
      "Epoch 7/16\n",
      " - 44s - loss: 0.2399 - acc: 0.9052 - val_loss: 0.2287 - val_acc: 0.9079\n",
      "Epoch 8/16\n",
      " - 44s - loss: 0.2393 - acc: 0.9060 - val_loss: 0.2279 - val_acc: 0.9080\n",
      "Epoch 9/16\n",
      " - 44s - loss: 0.2371 - acc: 0.9061 - val_loss: 0.2273 - val_acc: 0.9081\n",
      "Epoch 10/16\n",
      " - 44s - loss: 0.2370 - acc: 0.9059 - val_loss: 0.2263 - val_acc: 0.9081\n",
      "Epoch 11/16\n",
      " - 44s - loss: 0.2361 - acc: 0.9058 - val_loss: 0.2261 - val_acc: 0.9087\n",
      "Epoch 12/16\n",
      " - 44s - loss: 0.2350 - acc: 0.9075 - val_loss: 0.2297 - val_acc: 0.9054\n",
      "Epoch 13/16\n",
      " - 44s - loss: 0.2347 - acc: 0.9063 - val_loss: 0.2261 - val_acc: 0.9089\n",
      "Epoch 14/16\n",
      " - 44s - loss: 0.2337 - acc: 0.9066 - val_loss: 0.2258 - val_acc: 0.9093\n",
      "Epoch 15/16\n",
      " - 44s - loss: 0.2352 - acc: 0.9069 - val_loss: 0.2249 - val_acc: 0.9098\n",
      "Epoch 16/16\n",
      "\n"
     ]
    }
   ],
   "source": [
    "# Print standard out for one of the runs\n",
    "ar = results[0]\n",
    "print(ar.stdout)"
   ]
  },
  {
   "cell_type": "code",
   "execution_count": 26,
   "metadata": {},
   "outputs": [],
   "source": [
    "# Pull the results from all of the runs that have finished\n",
    "histories = [ar.get() for ar in results]"
   ]
  },
  {
   "cell_type": "code",
   "execution_count": 27,
   "metadata": {},
   "outputs": [],
   "source": [
    "times = [(ar.completed-ar.started).total_seconds()/60. for ar in results]"
   ]
  },
  {
   "cell_type": "code",
   "execution_count": 28,
   "metadata": {},
   "outputs": [],
   "source": [
    "%matplotlib inline"
   ]
  },
  {
   "cell_type": "code",
   "execution_count": 29,
   "metadata": {},
   "outputs": [
    {
     "data": {
      "image/png": "[encoded data removed]",
      "text/plain": [
       "<Figure size 432x288 with 1 Axes>"
      ]
     },
     "metadata": {},
     "output_type": "display_data"
    }
   ],
   "source": [
    "plt.figure()\n",
    "plt.hist(times)\n",
    "plt.xlabel('Training time [min]');"
   ]
  },
  {
   "cell_type": "markdown",
   "metadata": {},
   "source": [
    "## Model selection and evaluation"
   ]
  },
  {
   "cell_type": "code",
   "execution_count": 30,
   "metadata": {},
   "outputs": [],
   "source": [
    "def draw_history(h):\n",
    "    plt.figure(figsize=(9,4))\n",
    "    # Loss\n",
    "    plt.subplot(121)\n",
    "    plt.plot(h['loss'], label='Training')\n",
    "    plt.plot(h['val_loss'], label='Validation')\n",
    "    plt.xlim(xmin=0, xmax=len(h['loss'])-1)\n",
    "    plt.xlabel('Epoch')\n",
    "    plt.ylabel('Loss')\n",
    "    plt.legend(loc=0)\n",
    "    # Accuracy\n",
    "    plt.subplot(122)\n",
    "    plt.plot(h['acc'], label='Training')\n",
    "    plt.plot(h['val_acc'], label='Validation')\n",
    "    plt.xlim(xmin=0, xmax=len(h['loss'])-1)\n",
    "    plt.ylim((0, 1))\n",
    "    plt.xlabel('Epoch')\n",
    "    plt.ylabel('Accuracy')\n",
    "    plt.legend(loc=0)\n",
    "    plt.tight_layout()"
   ]
  },
  {
   "cell_type": "code",
   "execution_count": 31,
   "metadata": {},
   "outputs": [],
   "source": [
    "last_scores = np.array([h['val_acc'][-1] for h in histories])\n",
    "best_scores = np.array([max(h['val_acc']) for h in histories])"
   ]
  },
  {
   "cell_type": "code",
   "execution_count": 32,
   "metadata": {},
   "outputs": [
    {
     "name": "stdout",
     "output_type": "stream",
     "text": [
      "Hyperparameters: trial 19 conv [64 16 64] fc [256] dropout 0.618 opt Adam, lr 0.001\n",
      "  Last validation accuracy 0.9843\n",
      "  Best validation accuracy 0.9886\n"
     ]
    },
    {
     "data": {
      "image/png": "[encoded data removed]",
      "text/plain": [
       "<Figure size 648x288 with 2 Axes>"
      ]
     },
     "metadata": {},
     "output_type": "display_data"
    }
   ],
   "source": [
    "# Find the best in terms of final validation set accuracy\n",
    "i = best_scores.argmax()\n",
    "print('Hyperparameters: trial %i conv %s fc %s dropout %.3f opt %s, lr %.3f' %\n",
    "      (i, conv_sizes[i], fc_sizes[i], dropout[i], optimizer[i], lr[i]))\n",
    "print('  Last validation accuracy %.4f' % last_scores[i])\n",
    "print('  Best validation accuracy %.4f' % best_scores[i])\n",
    "draw_history(histories[i])"
   ]
  },
  {
   "cell_type": "code",
   "execution_count": 33,
   "metadata": {},
   "outputs": [
    {
     "name": "stdout",
     "output_type": "stream",
     "text": [
      "Hyperparameters: trial 26 conv [ 4 32  8] fc [128] dropout 0.653 opt Adadelta, lr 0.000\n",
      "  Last validation accuracy 0.5667\n",
      "  Best validation accuracy 0.5667\n"
     ]
    },
    {
     "data": {
      "image/png": "[encoded data removed]",
      "text/plain": [
       "<Figure size 648x288 with 2 Axes>"
      ]
     },
     "metadata": {},
     "output_type": "display_data"
    }
   ],
   "source": [
    "# Find the worst in terms of final validation set accuracy\n",
    "i = best_scores.argmin()\n",
    "\n",
    "print('Hyperparameters: trial %i conv %s fc %s dropout %.3f opt %s, lr %.3f' %\n",
    "      (i, conv_sizes[i], fc_sizes[i], dropout[i], optimizer[i], lr[i]))\n",
    "print('  Last validation accuracy %.4f' % last_scores[i])\n",
    "print('  Best validation accuracy %.4f' % best_scores[i])\n",
    "draw_history(histories[i])"
   ]
  },
  {
   "cell_type": "markdown",
   "metadata": {},
   "source": [
    "### Looking for trends in the best hyper-parameter sets"
   ]
  },
  {
   "cell_type": "code",
   "execution_count": 34,
   "metadata": {},
   "outputs": [
    {
     "data": {
      "image/png": "[encoded data removed]",
      "text/plain": [
       "<Figure size 432x288 with 1 Axes>"
      ]
     },
     "metadata": {},
     "output_type": "display_data"
    }
   ],
   "source": [
    "plt.figure()\n",
    "plt.hist(best_scores, bins=20, range=(0.5, 1))\n",
    "plt.xlabel('Validation accuracy');"
   ]
  },
  {
   "cell_type": "code",
   "execution_count": 35,
   "metadata": {},
   "outputs": [
    {
     "name": "stdout",
     "output_type": "stream",
     "text": [
      "Hyperparameters: trial 19 conv [64 16 64] fc [256] dropout 0.618 opt Adam, lr 0.001\n",
      "  Best validation accuracy 0.9886\n",
      "Hyperparameters: trial 15 conv [ 8 64 32] fc [256] dropout 0.019 opt Adam, lr 0.001\n",
      "  Best validation accuracy 0.9871\n",
      "Hyperparameters: trial 22 conv [32  8 16] fc [128] dropout 0.298 opt Adam, lr 0.000\n",
      "  Best validation accuracy 0.9838\n",
      "Hyperparameters: trial 16 conv [8 8 8] fc [256] dropout 0.302 opt Nadam, lr 0.010\n",
      "  Best validation accuracy 0.9779\n",
      "Hyperparameters: trial 23 conv [ 4  8 32] fc [256] dropout 0.570 opt Nadam, lr 0.000\n",
      "  Best validation accuracy 0.9754\n"
     ]
    }
   ],
   "source": [
    "for i in best_scores.argsort()[::-1][:5]:\n",
    "    print('Hyperparameters: trial %i conv %s fc %s dropout %.3f opt %s, lr %.3f' %\n",
    "          (i, conv_sizes[i], fc_sizes[i], dropout[i], optimizer[i], lr[i]))\n",
    "    print('  Best validation accuracy %.4f' % best_scores[i])"
   ]
  },
  {
   "cell_type": "markdown",
   "metadata": {},
   "source": [
    "### Test set evaluation\n",
    "\n",
    "Here we load the best selected model and evaluate final performance on the test set."
   ]
  },
  {
   "cell_type": "code",
   "execution_count": 36,
   "metadata": {},
   "outputs": [],
   "source": [
    "from sklearn import metrics\n",
    "\n",
    "def summarize_metrics(labels, outputs, threshold=0.5, weights=None):\n",
    "    preds = outputs > threshold\n",
    "    #print('Metrics summaries with threshold of %.3f' % threshold)\n",
    "    print('Accuracy:   %.4f' % metrics.accuracy_score(labels, preds, sample_weight=weights))\n",
    "    print('Purity:     %.4f' % metrics.precision_score(labels, preds, sample_weight=weights))\n",
    "    print('Efficiency: %.4f' % metrics.recall_score(labels, preds, sample_weight=weights))\n",
    "\n",
    "def draw_roc(labels, outputs, weights=None, ax=None):\n",
    "    fpr, tpr, _ = metrics.roc_curve(labels, outputs, sample_weight=weights)\n",
    "    auc = metrics.roc_auc_score(labels, outputs, sample_weight=weights)\n",
    "    if ax is None:\n",
    "        fig, ax = plt.subplots()\n",
    "    ax.plot(fpr, tpr, label='CNN, AUC=%.3f' % auc)\n",
    "    ax.plot([0, 1], [0, 1], '--', label='Random')\n",
    "    ax.set_xlabel('False positive rate')\n",
    "    ax.set_ylabel('True positive rate')\n",
    "    ax.legend(loc=0)"
   ]
  },
  {
   "cell_type": "code",
   "execution_count": 37,
   "metadata": {},
   "outputs": [],
   "source": [
    "test_input, test_labels, test_weights = load_file(os.path.join(input_dir, 'test.h5'), n_test)"
   ]
  },
  {
   "cell_type": "code",
   "execution_count": 38,
   "metadata": {},
   "outputs": [],
   "source": [
    "i = best_scores.argmax()\n",
    "model_file = os.path.join(checkpoint_dir, 'model_%i.h5' % i)\n",
    "model = keras.models.load_model(model_file)"
   ]
  },
  {
   "cell_type": "code",
   "execution_count": 39,
   "metadata": {},
   "outputs": [],
   "source": [
    "test_output = model.predict(test_input)\n",
    "test_output = test_output.squeeze(-1)"
   ]
  },
  {
   "cell_type": "code",
   "execution_count": 40,
   "metadata": {},
   "outputs": [
    {
     "name": "stdout",
     "output_type": "stream",
     "text": [
      "Unweighted metrics\n",
      "Accuracy:   0.9836\n",
      "Purity:     0.9919\n",
      "Efficiency: 0.9694\n",
      "Weighted metrics\n",
      "Accuracy:   0.9806\n",
      "Purity:     0.0031\n",
      "Efficiency: 0.9694\n"
     ]
    }
   ],
   "source": [
    "# Unweighted results\n",
    "print('Unweighted metrics')\n",
    "summarize_metrics(test_labels, test_output)\n",
    "\n",
    "# Weighted results\n",
    "print('Weighted metrics')\n",
    "summarize_metrics(test_labels, test_output, weights=test_weights)"
   ]
  },
  {
   "cell_type": "code",
   "execution_count": 41,
   "metadata": {},
   "outputs": [
    {
     "data": {
      "image/png": "[encoded data removed]",
      "text/plain": [
       "<Figure size 648x288 with 2 Axes>"
      ]
     },
     "metadata": {},
     "output_type": "display_data"
    }
   ],
   "source": [
    "fig, axs = plt.subplots(1, 2, figsize=(9,4))\n",
    "draw_roc(test_labels, test_output, ax=axs[0])\n",
    "draw_roc(test_labels, test_output, ax=axs[1], weights=test_weights)\n",
    "axs[0].set_xlim([0, 0.001])\n",
    "axs[0].set_title('Unweighted')\n",
    "axs[1].set_xlim([0, 0.001])\n",
    "axs[1].set_title('Weighted');"
   ]
  }
 ],
 "metadata": {
  "kernelspec": {
   "display_name": "Tensorflow 1.9 py36",
   "language": "python",
   "name": "tensorflow_1.9.0_py36"
  },
  "language_info": {
   "codemirror_mode": {
    "name": "ipython",
    "version": 3
   },
   "file_extension": ".py",
   "mimetype": "text/x-python",
   "name": "python",
   "nbconvert_exporter": "python",
   "pygments_lexer": "ipython3",
   "version": "3.6.5"
  }
 },
 "nbformat": 4,
 "nbformat_minor": 2
}
