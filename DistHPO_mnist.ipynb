{
 "cells": [
  {
   "cell_type": "markdown",
   "metadata": {},
   "source": [
    "# Keras MNIST classifier with _distributed_ random-search hyper-parameter optimization"
   ]
  },
  {
   "cell_type": "code",
   "execution_count": 1,
   "metadata": {},
   "outputs": [
    {
     "name": "stderr",
     "output_type": "stream",
     "text": [
      "Using TensorFlow backend.\n"
     ]
    }
   ],
   "source": [
    "# System imports\n",
    "from __future__ import print_function\n",
    "from __future__ import division\n",
    "from __future__ import absolute_import\n",
    "import os\n",
    "\n",
    "# External imports\n",
    "import ipyparallel as ipp\n",
    "import numpy as np\n",
    "import matplotlib.pyplot as plt\n",
    "import keras\n",
    "\n",
    "# Local imports\n",
    "from mnist import load_data"
   ]
  },
  {
   "cell_type": "markdown",
   "metadata": {},
   "source": [
    "## Connect to cluster\n",
    "\n",
    "Here we use a shell command to query the slurm job ID running our cluster, then we connect using the corresponding cluster ID."
   ]
  },
  {
   "cell_type": "code",
   "execution_count": 2,
   "metadata": {},
   "outputs": [
    {
     "name": "stdout",
     "output_type": "stream",
     "text": [
      "             JOBID PARTITION     NAME     USER ST       TIME  NODES NODELIST(REASON)\n",
      "          14799600 interacti       sh sfarrell  R      17:24     16 nid00[138,178-183,193,212-219]\n"
     ]
    }
   ],
   "source": [
    "%%bash\n",
    "squeue -u sfarrell"
   ]
  },
  {
   "cell_type": "code",
   "execution_count": 3,
   "metadata": {},
   "outputs": [
    {
     "name": "stdout",
     "output_type": "stream",
     "text": [
      "Worker IDs: [0, 1, 2, 3, 4, 5, 6, 7, 8, 9, 10, 11, 12, 13, 14, 15]\n"
     ]
    }
   ],
   "source": [
    "# Cluster ID taken from job ID above\n",
    "job_id = 14799600\n",
    "cluster_id = 'cori_{}'.format(job_id)\n",
    "\n",
    "# Use default profile\n",
    "c = ipp.Client(timeout=60, cluster_id=cluster_id)\n",
    "print('Worker IDs:', c.ids)"
   ]
  },
  {
   "cell_type": "markdown",
   "metadata": {},
   "source": [
    "## Load the data"
   ]
  },
  {
   "cell_type": "code",
   "execution_count": 4,
   "metadata": {},
   "outputs": [
    {
     "name": "stdout",
     "output_type": "stream",
     "text": [
      "x_train shape: (60000, 28, 28, 1)\n",
      "x_test shape: (10000, 28, 28, 1)\n",
      "y_train shape: (60000, 10)\n",
      "y_test shape: (10000, 10)\n"
     ]
    }
   ],
   "source": [
    "x_train, y_train, x_test, y_test = load_data()\n",
    "\n",
    "print('x_train shape:', x_train.shape)\n",
    "print('x_test shape:', x_test.shape)\n",
    "print('y_train shape:', y_train.shape)\n",
    "print('y_test shape:', y_test.shape)"
   ]
  },
  {
   "cell_type": "markdown",
   "metadata": {},
   "source": [
    "## Configure the tasks"
   ]
  },
  {
   "cell_type": "code",
   "execution_count": 5,
   "metadata": {},
   "outputs": [],
   "source": [
    "# Temporarily making things reproducible for development\n",
    "np.random.seed(0)\n",
    "\n",
    "# Define the hyper-parameter search points\n",
    "n_hpo_trials = 32\n",
    "grid_h1 = np.random.choice([4, 8, 16, 32, 64], size=n_hpo_trials)\n",
    "grid_h2 = np.random.choice([4, 8, 16, 32, 64], size=n_hpo_trials)\n",
    "grid_h3 = np.random.choice([8, 16, 32, 64, 128], size=n_hpo_trials)\n",
    "grid_dropout = np.random.rand(n_hpo_trials)\n",
    "grid_optimizer = np.random.choice(['Adadelta', 'Adam', 'Nadam'], size=n_hpo_trials)\n",
    "\n",
    "# Training config\n",
    "batch_size = 128\n",
    "n_epochs = 16\n",
    "valid_frac = 0.17\n",
    "checkpoint_dir = os.path.join(os.environ['SCRATCH'],\n",
    "                              'cori-interactive-dl/mnist_hpo_%i' % job_id)\n",
    "os.makedirs(checkpoint_dir, exist_ok=True)"
   ]
  },
  {
   "cell_type": "markdown",
   "metadata": {},
   "source": [
    "## Run the trainings"
   ]
  },
  {
   "cell_type": "code",
   "execution_count": 6,
   "metadata": {},
   "outputs": [],
   "source": [
    "def build_and_train(valid_frac, batch_size, n_epochs,\n",
    "                    h1, h2, h3, dropout, optimizer, verbose=0,\n",
    "                    checkpoint_file=None):\n",
    "    \"\"\"Run training for one set of hyper-parameters\"\"\"\n",
    "    import keras\n",
    "    from mnist import build_model, load_data\n",
    "    from mlextras import configure_session, IPyParallelLogger\n",
    "    # Load the data\n",
    "    x_train, y_train, _, _ = load_data()\n",
    "    # Thread settings\n",
    "    keras.backend.set_session(configure_session())\n",
    "    # Build the model\n",
    "    model = build_model(h1=h1, h2=h2, h3=h3,\n",
    "                        dropout=dropout, optimizer=optimizer)\n",
    "    callbacks = []\n",
    "    if checkpoint_file is not None:\n",
    "        callbacks.append(keras.callbacks.ModelCheckpoint(checkpoint_file))\n",
    "    # Train the model\n",
    "    history = model.fit(x_train, y_train,\n",
    "                        validation_split=valid_frac,\n",
    "                        batch_size=batch_size, epochs=n_epochs,\n",
    "                        verbose=verbose, callbacks=callbacks)\n",
    "    return history.history"
   ]
  },
  {
   "cell_type": "code",
   "execution_count": 7,
   "metadata": {},
   "outputs": [
    {
     "name": "stdout",
     "output_type": "stream",
     "text": [
      "HP trial 0 hidden 64-8-128 dropout 0.020 opt Nadam\n",
      "HP trial 1 hidden 4-8-16 dropout 0.442 opt Nadam\n",
      "HP trial 2 hidden 32-8-32 dropout 0.980 opt Adadelta\n",
      "HP trial 3 hidden 32-4-128 dropout 0.359 opt Adadelta\n",
      "HP trial 4 hidden 32-16-64 dropout 0.481 opt Adadelta\n",
      "HP trial 5 hidden 8-64-128 dropout 0.689 opt Adam\n",
      "HP trial 6 hidden 32-32-128 dropout 0.880 opt Nadam\n",
      "HP trial 7 hidden 16-32-128 dropout 0.918 opt Adadelta\n",
      "HP trial 8 hidden 64-16-64 dropout 0.217 opt Adadelta\n",
      "HP trial 9 hidden 4-64-128 dropout 0.565 opt Adam\n",
      "HP trial 10 hidden 4-16-128 dropout 0.865 opt Adadelta\n",
      "HP trial 11 hidden 64-4-128 dropout 0.509 opt Nadam\n",
      "HP trial 12 hidden 16-4-8 dropout 0.917 opt Adam\n",
      "HP trial 13 hidden 8-64-128 dropout 0.921 opt Adam\n",
      "HP trial 14 hidden 4-4-64 dropout 0.083 opt Adam\n",
      "HP trial 15 hidden 8-64-32 dropout 0.278 opt Adadelta\n",
      "HP trial 16 hidden 8-8-8 dropout 0.009 opt Adadelta\n",
      "HP trial 17 hidden 4-64-16 dropout 0.842 opt Adadelta\n",
      "HP trial 18 hidden 8-8-16 dropout 0.647 opt Adam\n",
      "HP trial 19 hidden 64-16-64 dropout 0.841 opt Adam\n",
      "HP trial 20 hidden 32-16-8 dropout 0.265 opt Nadam\n",
      "HP trial 21 hidden 4-4-8 dropout 0.398 opt Adam\n",
      "HP trial 22 hidden 32-8-16 dropout 0.553 opt Adadelta\n",
      "HP trial 23 hidden 4-8-32 dropout 0.165 opt Adadelta\n",
      "HP trial 24 hidden 16-8-128 dropout 0.370 opt Adam\n",
      "HP trial 25 hidden 32-8-32 dropout 0.146 opt Nadam\n",
      "HP trial 26 hidden 4-32-8 dropout 0.570 opt Adam\n",
      "HP trial 27 hidden 8-32-64 dropout 0.704 opt Adam\n",
      "HP trial 28 hidden 32-16-32 dropout 0.288 opt Adam\n",
      "HP trial 29 hidden 32-32-32 dropout 0.433 opt Adadelta\n",
      "HP trial 30 hidden 32-4-8 dropout 0.756 opt Adadelta\n",
      "HP trial 31 hidden 4-32-16 dropout 0.396 opt Adadelta\n"
     ]
    }
   ],
   "source": [
    "# Load-balanced view\n",
    "lv = c.load_balanced_view()\n",
    "\n",
    "# Loop over hps\n",
    "results = []\n",
    "params = zip(grid_h1, grid_h2, grid_h3, grid_dropout, grid_optimizer)\n",
    "for ihp, (h1, h2, h3, dropout, optimizer) in enumerate(params):\n",
    "    print('HP trial %i hidden %i-%i-%i dropout %.3f opt %s' %\n",
    "          (ihp, h1, h2, h3, dropout, optimizer))\n",
    "    checkpoint_file = os.path.join(checkpoint_dir, 'model_%i.h5' % ihp)\n",
    "    result = lv.apply(build_and_train,\n",
    "                      valid_frac=valid_frac,\n",
    "                      batch_size=batch_size, n_epochs=n_epochs,\n",
    "                      h1=h1, h2=h2, h3=h3,\n",
    "                      dropout=dropout, optimizer=optimizer,\n",
    "                      checkpoint_file=checkpoint_file, verbose=2)\n",
    "    results.append(result)"
   ]
  },
  {
   "cell_type": "code",
   "execution_count": 8,
   "metadata": {},
   "outputs": [
    {
     "name": "stdout",
     "output_type": "stream",
     "text": [
      "Tasks completed: 0 / 32\n"
     ]
    }
   ],
   "source": [
    "print('Tasks completed: %i / %i' % (np.sum([ar.ready() for ar in results]), len(results)))"
   ]
  },
  {
   "cell_type": "code",
   "execution_count": 9,
   "metadata": {},
   "outputs": [],
   "source": [
    "ar = results[1]"
   ]
  },
  {
   "cell_type": "code",
   "execution_count": 10,
   "metadata": {},
   "outputs": [
    {
     "name": "stdout",
     "output_type": "stream",
     "text": [
      "Train on 49800 samples, validate on 10200 samples\n",
      "Epoch 1/16\n",
      "\n"
     ]
    }
   ],
   "source": [
    "print(ar.stdout)"
   ]
  },
  {
   "cell_type": "code",
   "execution_count": 11,
   "metadata": {},
   "outputs": [],
   "source": [
    "histories = [ar.get() for ar in results]"
   ]
  },
  {
   "cell_type": "markdown",
   "metadata": {},
   "source": [
    "## Model selection and evaluation"
   ]
  },
  {
   "cell_type": "code",
   "execution_count": 12,
   "metadata": {},
   "outputs": [],
   "source": [
    "last_scores = np.array([h['val_acc'][-1] for h in histories])\n",
    "best_scores = np.array([max(h['val_acc']) for h in histories])"
   ]
  },
  {
   "cell_type": "markdown",
   "metadata": {},
   "source": [
    "### Best model"
   ]
  },
  {
   "cell_type": "code",
   "execution_count": 13,
   "metadata": {},
   "outputs": [],
   "source": [
    "%matplotlib inline"
   ]
  },
  {
   "cell_type": "code",
   "execution_count": 14,
   "metadata": {},
   "outputs": [
    {
     "name": "stdout",
     "output_type": "stream",
     "text": [
      "Hyperparameters: trial 9 hidden 4-64-128 dropout 0.565 opt Adam\n",
      "  Last validation accuracy 0.9901\n",
      "  Best validation accuracy 0.9908\n"
     ]
    },
    {
     "data": {
      "image/png": "[encoded data removed]",
      "text/plain": [
       "<Figure size 648x288 with 2 Axes>"
      ]
     },
     "metadata": {},
     "output_type": "display_data"
    }
   ],
   "source": [
    "# Find the best in terms of final validation set accuracy\n",
    "i = best_scores.argmax()\n",
    "h = histories[i]\n",
    "\n",
    "print('Hyperparameters: trial %i hidden %i-%i-%i dropout %.3f opt %s' %\n",
    "      (i, grid_h1[i], grid_h2[i], grid_h3[i], grid_dropout[i], grid_optimizer[i]))\n",
    "print('  Last validation accuracy %.4f' % last_scores[i])\n",
    "print('  Best validation accuracy %.4f' % best_scores[i])\n",
    "\n",
    "plt.figure(figsize=(9,4))\n",
    "\n",
    "# Loss\n",
    "plt.subplot(121)\n",
    "plt.plot(h['loss'], label='Training')\n",
    "plt.plot(h['val_loss'], label='Validation')\n",
    "plt.xlim(xmin=0, xmax=len(h['loss'])-1)\n",
    "plt.xlabel('Epoch')\n",
    "plt.ylabel('Loss')\n",
    "plt.legend(loc=0)\n",
    "\n",
    "# Accuracy\n",
    "plt.subplot(122)\n",
    "plt.plot(h['acc'], label='Training')\n",
    "plt.plot(h['val_acc'], label='Validation')\n",
    "plt.xlim(xmin=0, xmax=len(h['loss'])-1)\n",
    "plt.ylim((0, 1))\n",
    "plt.xlabel('Epoch')\n",
    "plt.ylabel('Accuracy')\n",
    "plt.legend(loc=0)\n",
    "\n",
    "plt.tight_layout()"
   ]
  },
  {
   "cell_type": "markdown",
   "metadata": {},
   "source": [
    "### Worst model"
   ]
  },
  {
   "cell_type": "code",
   "execution_count": 15,
   "metadata": {},
   "outputs": [
    {
     "name": "stdout",
     "output_type": "stream",
     "text": [
      "Hyperparameters: trial 2 hidden 32-8-32 dropout 0.980 opt Adadelta\n",
      "  Last validation accuracy 0.1066\n",
      "  Best validation accuracy 0.1066\n"
     ]
    },
    {
     "data": {
      "image/png": "[encoded data removed]",
      "text/plain": [
       "<Figure size 648x288 with 2 Axes>"
      ]
     },
     "metadata": {},
     "output_type": "display_data"
    }
   ],
   "source": [
    "# Find the best in terms of final validation set accuracy\n",
    "i = best_scores.argmin()\n",
    "h = histories[i]\n",
    "\n",
    "print('Hyperparameters: trial %i hidden %i-%i-%i dropout %.3f opt %s' %\n",
    "      (i, grid_h1[i], grid_h2[i], grid_h3[i], grid_dropout[i], grid_optimizer[i]))\n",
    "print('  Last validation accuracy %.4f' % last_scores[i])\n",
    "print('  Best validation accuracy %.4f' % best_scores[i])\n",
    "\n",
    "plt.figure(figsize=(9,4))\n",
    "\n",
    "# Loss\n",
    "plt.subplot(121)\n",
    "plt.plot(h['loss'], label='Training')\n",
    "plt.plot(h['val_loss'], label='Validation')\n",
    "plt.xlim(xmin=0, xmax=len(h['loss'])-1)\n",
    "plt.xlabel('Epoch')\n",
    "plt.ylabel('Loss')\n",
    "plt.legend(loc=0)\n",
    "\n",
    "# Accuracy\n",
    "plt.subplot(122)\n",
    "plt.plot(h['acc'], label='Training')\n",
    "plt.plot(h['val_acc'], label='Validation')\n",
    "plt.xlim(xmin=0, xmax=len(h['loss'])-1)\n",
    "plt.ylim((0, 1))\n",
    "plt.xlabel('Epoch')\n",
    "plt.ylabel('Accuracy')\n",
    "plt.legend(loc=0)\n",
    "\n",
    "plt.tight_layout()"
   ]
  },
  {
   "cell_type": "markdown",
   "metadata": {},
   "source": [
    "### Test set evaluation\n",
    "\n",
    "Here we load the best selected model and evaluate final performance on the test set."
   ]
  },
  {
   "cell_type": "code",
   "execution_count": 16,
   "metadata": {},
   "outputs": [],
   "source": [
    "i = best_scores.argmax()\n",
    "model_file = os.path.join(checkpoint_dir, 'model_%i.h5' % i)\n",
    "model = keras.models.load_model(model_file)"
   ]
  },
  {
   "cell_type": "code",
   "execution_count": 17,
   "metadata": {},
   "outputs": [],
   "source": [
    "test_loss, test_acc = model.evaluate(x_test, y_test, verbose=0)"
   ]
  },
  {
   "cell_type": "code",
   "execution_count": 18,
   "metadata": {},
   "outputs": [
    {
     "name": "stdout",
     "output_type": "stream",
     "text": [
      "Test loss: 0.0324\n",
      "Test accuracy: 0.9905\n"
     ]
    }
   ],
   "source": [
    "print('Test loss: %.4f' % test_loss)\n",
    "print('Test accuracy: %.4f' % test_acc)"
   ]
  }
 ],
 "metadata": {
  "kernelspec": {
   "display_name": "Tensorflow 1.9 py36",
   "language": "python",
   "name": "tensorflow_1.9.0_py36"
  },
  "language_info": {
   "codemirror_mode": {
    "name": "ipython",
    "version": 3
   },
   "file_extension": ".py",
   "mimetype": "text/x-python",
   "name": "python",
   "nbconvert_exporter": "python",
   "pygments_lexer": "ipython3",
   "version": "3.6.5"
  }
 },
 "nbformat": 4,
 "nbformat_minor": 2
}
