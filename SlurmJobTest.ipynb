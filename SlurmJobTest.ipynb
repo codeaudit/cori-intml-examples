{
 "cells": [
  {
   "cell_type": "markdown",
   "metadata": {},
   "source": [
    "# SLURM job management tests"
   ]
  },
  {
   "cell_type": "markdown",
   "metadata": {},
   "source": [
    "In this notebook we are testing SLURM allocation and task submission"
   ]
  },
  {
   "cell_type": "code",
   "execution_count": 1,
   "metadata": {},
   "outputs": [],
   "source": [
    "from slurm_helpers import SlurmJob"
   ]
  },
  {
   "cell_type": "markdown",
   "metadata": {},
   "source": [
    "## Start an allocation"
   ]
  },
  {
   "cell_type": "code",
   "execution_count": 2,
   "metadata": {},
   "outputs": [],
   "source": [
    "# Configure the allocation\n",
    "node_type = 'haswell'\n",
    "n_nodes = 2\n",
    "qos = 'interactive'\n",
    "time = 10"
   ]
  },
  {
   "cell_type": "code",
   "execution_count": 3,
   "metadata": {},
   "outputs": [
    {
     "name": "stdout",
     "output_type": "stream",
     "text": [
      "Launched in background. Redirecting stdin to /dev/null\n",
      "salloc: Pending job allocation 15662545\n",
      "salloc: job 15662545 queued and waiting for resources\n",
      "salloc: job 15662545 has been allocated resources\n",
      "salloc: Granted job allocation 15662545\n",
      "salloc: Waiting for resource configuration\n",
      "salloc: Nodes nid00[220-221] are ready for job\n",
      "\n"
     ]
    }
   ],
   "source": [
    "job = SlurmJob(node_type=node_type, n_nodes=n_nodes, qos=qos, time=time)"
   ]
  },
  {
   "cell_type": "code",
   "execution_count": 4,
   "metadata": {},
   "outputs": [
    {
     "data": {
      "text/plain": [
       "15662545"
      ]
     },
     "execution_count": 4,
     "metadata": {},
     "output_type": "execute_result"
    }
   ],
   "source": [
    "job.jobid"
   ]
  },
  {
   "cell_type": "markdown",
   "metadata": {},
   "source": [
    "## Submitting tasks to the allocation"
   ]
  },
  {
   "cell_type": "code",
   "execution_count": 5,
   "metadata": {},
   "outputs": [],
   "source": [
    "# Submit two tasks into this allocation\n",
    "p1 = job.submit_task('sleep 1m')\n",
    "p2 = job.submit_task('which python')"
   ]
  },
  {
   "cell_type": "code",
   "execution_count": 6,
   "metadata": {},
   "outputs": [
    {
     "name": "stdout",
     "output_type": "stream",
     "text": [
      "15662545     allocation interacti+    dasrepo        128    RUNNING      0:0 \n",
      "15662545.ex+     extern               dasrepo        128    RUNNING      0:0 \n",
      "15662545.0        which               dasrepo          1  COMPLETED      0:0 \n",
      "15662545.1        sleep               dasrepo          1    RUNNING      0:0 \n"
     ]
    }
   ],
   "source": [
    "%%bash\n",
    "\n",
    "sacct | tail -n 4"
   ]
  },
  {
   "cell_type": "code",
   "execution_count": 7,
   "metadata": {},
   "outputs": [],
   "source": [
    "# Submit a multi-node task which must wait until p1, p2 are done\n",
    "p3 = job.submit_task('hostname', n_nodes=2)"
   ]
  },
  {
   "cell_type": "code",
   "execution_count": 12,
   "metadata": {},
   "outputs": [
    {
     "name": "stdout",
     "output_type": "stream",
     "text": [
      "15662545     allocation interacti+    dasrepo        128    RUNNING      0:0 \n",
      "15662545.ex+     extern               dasrepo        128    RUNNING      0:0 \n",
      "15662545.0        which               dasrepo          1  COMPLETED      0:0 \n",
      "15662545.1        sleep               dasrepo          1  COMPLETED      0:0 \n",
      "15662545.2     hostname               dasrepo          2  COMPLETED      0:0 \n"
     ]
    }
   ],
   "source": [
    "%%bash\n",
    "\n",
    "sacct | tail -n 5"
   ]
  },
  {
   "cell_type": "code",
   "execution_count": 13,
   "metadata": {},
   "outputs": [
    {
     "name": "stdout",
     "output_type": "stream",
     "text": [
      "0 0 0\n"
     ]
    }
   ],
   "source": [
    "# Are they done?\n",
    "print(p1.poll(), p2.poll(), p3.poll())"
   ]
  },
  {
   "cell_type": "code",
   "execution_count": 14,
   "metadata": {},
   "outputs": [
    {
     "name": "stdout",
     "output_type": "stream",
     "text": [
      "command: ['srun', '--jobid', '15662545', '-N', '1', 'sleep', '1m']\n",
      "stdout: \n",
      "stderr: Launched in background. Redirecting stdin to /dev/null\n",
      "command: ['srun', '--jobid', '15662545', '-N', '1', 'which', 'python']\n",
      "stdout: /global/common/cori/software/python/3.6-anaconda-5.2/bin/python\n",
      "stderr: Launched in background. Redirecting stdin to /dev/null\n",
      "command: ['srun', '--jobid', '15662545', '-N', '2', 'hostname']\n",
      "stdout: nid00221\n",
      "nid00220\n",
      "stderr: Launched in background. Redirecting stdin to /dev/null\n",
      "srun: Job 15662545 step creation temporarily disabled, retrying\n",
      "srun: Step created for job 15662545\n"
     ]
    }
   ],
   "source": [
    "for p in [p1, p2, p3]:\n",
    "    print('command:', p.args)\n",
    "    outputs = p.communicate()\n",
    "    print('stdout:', outputs[0].decode().strip())\n",
    "    print('stderr:', outputs[1].decode().strip())"
   ]
  },
  {
   "cell_type": "code",
   "execution_count": 15,
   "metadata": {},
   "outputs": [],
   "source": [
    "# Job is canceled when SlurmJob deleted\n",
    "del job"
   ]
  },
  {
   "cell_type": "code",
   "execution_count": 16,
   "metadata": {},
   "outputs": [
    {
     "name": "stdout",
     "output_type": "stream",
     "text": [
      "No jobs found\n"
     ]
    }
   ],
   "source": [
    "%%bash\n",
    "\n",
    "sqs"
   ]
  }
 ],
 "metadata": {
  "kernelspec": {
   "display_name": "Python [conda env:3.6-anaconda-5.2]",
   "language": "python",
   "name": "conda-env-3.6-anaconda-5.2-py"
  },
  "language_info": {
   "codemirror_mode": {
    "name": "ipython",
    "version": 3
   },
   "file_extension": ".py",
   "mimetype": "text/x-python",
   "name": "python",
   "nbconvert_exporter": "python",
   "pygments_lexer": "ipython3",
   "version": "3.6.5"
  },
  "toc-autonumbering": false,
  "toc-showcode": false,
  "toc-showmarkdowntxt": false
 },
 "nbformat": 4,
 "nbformat_minor": 2
}
